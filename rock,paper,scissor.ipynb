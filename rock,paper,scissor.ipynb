{
 "cells": [
  {
   "cell_type": "markdown",
   "id": "07eb3482",
   "metadata": {},
   "source": [
    "Sheikh Zameer Ahmad"
   ]
  },
  {
   "cell_type": "markdown",
   "id": "9ffd62f2",
   "metadata": {},
   "source": [
    "<H1>ROCK,PAPER,SCISSORS"
   ]
  },
  {
   "cell_type": "markdown",
   "id": "c2fa028c",
   "metadata": {},
   "source": [
    "<h2><font color=red>Python Program To Build Rock,Paper,Scissors Game Using OOPS Concept</font>"
   ]
  },
  {
   "cell_type": "markdown",
   "id": "a46eb7ff",
   "metadata": {},
   "source": [
    "To create a rock,paper,scissors game we neet to create a class(rock_paper_scissors) and define functionalities like space_size,player_move,computer_move etc"
   ]
  },
  {
   "cell_type": "markdown",
   "id": "59bfb0cd",
   "metadata": {},
   "source": [
    "After that game will ask the user to give input weather he wants to play game or you want to exit the game."
   ]
  },
  {
   "cell_type": "markdown",
   "id": "87ffbd3c",
   "metadata": {},
   "source": [
    "<H3><font color=black>CODE EXECUTION:<font>"
   ]
  },
  {
   "cell_type": "code",
   "execution_count": null,
   "id": "3ed2173b",
   "metadata": {},
   "outputs": [],
   "source": [
    "from os import system\n",
    "from random import randint\n",
    "from sys import exit\n",
    "\n",
    "\n",
    "class rock_paper_scissors:\n",
    "    def __init__(self):\n",
    "        self.choices = \"rock\", \"paper\", \"scissors\"\n",
    "        self.player_wins = 0\n",
    "        self.computer_wins = 0\n",
    "\n",
    "    def _spacer_size(self, length=65):\n",
    "        return '-' * length\n",
    "\n",
    "    def _player_move(self):\n",
    "        while True:\n",
    "            try:\n",
    "                option = int(input('Choose an option between Rock (1), Paper (2), Scissors (3): '))\n",
    "\n",
    "                if 1 <= option <= 3:\n",
    "                    break\n",
    "                else:\n",
    "                    print('You can only enter a number between 1 and 3.')    \n",
    "            except ValueError:\n",
    "                print('The value entered is invalid. You can only enter numeric values.')\n",
    "\n",
    "        return option\n",
    "\n",
    "    def _computer_move(self):\n",
    "        return randint(1,3)\n",
    "\n",
    "    def _check_winner(self):\n",
    "        if self.player_wins == self.computer_wins:\n",
    "            return 'Tie.'\n",
    "        elif self.player_wins > self.computer_wins:\n",
    "            return 'You won the set.'\n",
    "        else:\n",
    "            return 'Computer wins the set.'\n",
    "\n",
    "    def _play(self):\n",
    "        times = int(input(\"How many times do you wish to play?: \"))\n",
    "\n",
    "        for i in range(times):\n",
    "            player = self._player_move()\n",
    "            computer = self._computer_move()\n",
    "            print(f\"You chose {self.choices[player-1]}.\")\n",
    "            print(f\"The computer chose {self.choices[computer-1]}.\")\n",
    "\n",
    "            if player == computer:\n",
    "                print('Tie.\\n')\n",
    "                print(self._spacer_size(), '\\n')\n",
    "            elif (player-computer) % 3 == 1:\n",
    "                print('You won.\\n')\n",
    "                print(self._spacer_size(), '\\n')\n",
    "                self.player_wins += 1\n",
    "            else:\n",
    "                print('You lost.\\n')\n",
    "                print(self._spacer_size(), '\\n')\n",
    "                self.computer_wins += 1\n",
    "\n",
    "        print(self._check_winner())\n",
    "        input(\"Press enter to return to the main menu....\")\n",
    "        system(\"CLS\")\n",
    "        self.main()\n",
    "            \n",
    "    def main(self, length=95):\n",
    "        while True:\n",
    "            try:\n",
    "                \n",
    "                print('1. Play'.center(length))\n",
    "                print('2 Exit'.center(length))\n",
    "                choice = int(input('\\nEnter an option: '))\n",
    "            except ValueError:\n",
    "                print('The value entered isinvalid.You can only enter numeric values.')\n",
    "\n",
    "            if choice == 1:\n",
    "                system(\"CLS\")\n",
    "                self._play()\n",
    "                break\n",
    "            \n",
    "            elif choice == 2:\n",
    "                exit()\n",
    "            else:\n",
    "                print(\"You have entered a number that isn't in the list.\")\n",
    "                system(\"CLS\")\n",
    "            \n",
    "\n",
    "if __name__ == '__main__':\n",
    "    game = rock_paper_scissors()\n",
    "    game.main()"
   ]
  },
  {
   "cell_type": "code",
   "execution_count": null,
   "id": "e19a34f1",
   "metadata": {},
   "outputs": [],
   "source": []
  }
 ],
 "metadata": {
  "kernelspec": {
   "display_name": "Python 3 (ipykernel)",
   "language": "python",
   "name": "python3"
  },
  "language_info": {
   "codemirror_mode": {
    "name": "ipython",
    "version": 3
   },
   "file_extension": ".py",
   "mimetype": "text/x-python",
   "name": "python",
   "nbconvert_exporter": "python",
   "pygments_lexer": "ipython3",
   "version": "3.10.4"
  }
 },
 "nbformat": 4,
 "nbformat_minor": 5
}
